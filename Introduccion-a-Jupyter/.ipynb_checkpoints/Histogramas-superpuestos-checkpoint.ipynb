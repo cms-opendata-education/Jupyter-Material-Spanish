{
 "cells": [
  {
   "cell_type": "markdown",
   "metadata": {},
   "source": [
    "# Importando un archivo de datos del CMS y creando histogramas para analizar los datos"
   ]
  },
  {
   "cell_type": "markdown",
   "metadata": {},
   "source": [
    "Esta actividad le ayudará a practicar con Jupyter Notebook. <br> <br>\n",
    "Seleccione un archivo de datos para analizar desde http://opendata.cern.ch/record/545. <br>\n",
    "Para el ejemplo, descargue Dimuon_DoubleMu.cvs y guárdelo en una carpeta llamada datos. <br>\n",
    "Tenga en cuenta que hay otros archivos disponibles, pero el archivo debe ser de valores separados por comas (.csv). <br> <br>\n",
    "\n",
    "Casillas, como ésta, que dan instrucción pero no código, pueden ser ingresadas seleccionando \"Markdown\" en el menú desplegable de arriba. <br>Si está regresando a una página después de haberla trabajado anteriormente, se recomienda que seleccione \"Kernel\" \"Reiniciar y eliminar salida\" <br>Para introducir el código, seleccione \"Código\" en el menú desplegable. <br>\n",
    "El código puede ser copiado, pegado de otras fuentes y editado. Primero necesitará importar los paquetes pandas y matplotlib.pyplot."
   ]
  },
  {
   "cell_type": "code",
   "execution_count": 3,
   "metadata": {},
   "outputs": [],
   "source": [
    "import pandas\n",
    "import matplotlib.pyplot as plt\n",
    "%matplotlib inline"
   ]
  },
  {
   "cell_type": "markdown",
   "metadata": {},
   "source": [
    "Después de ingresar un cuadro de código, presione ctrl & enter al mismo tiempo para ejecutar el código. Un asterisco aparecerá en el IN [] mientras se está procesando el comando. <br>\n",
    "Espere hasta que aparezca un número en esa ubicación antes de continuar. <br>\n",
    "Los mensajes de error aparecerán en color rosa e indicarán información relativa al error. <br>\n",
    "Para usar el archivo que ha descargado, debe guardarse en una variable. Escriba la ubicación del archivo y el nombre exactamente como aparece en su computadora. <br>\n",
    "En nuestro ejemplo el archivo es datos/Dimuon_DoubleMu.cvs. <br>\n",
    "Guarde los datos en una variable y compruebe el contenido de las primeras 5 filas."
   ]
  },
  {
   "cell_type": "code",
   "execution_count": 5,
   "metadata": {
    "scrolled": true
   },
   "outputs": [
    {
     "data": {
      "text/html": [
       "<div>\n",
       "<style>\n",
       "    .dataframe thead tr:only-child th {\n",
       "        text-align: right;\n",
       "    }\n",
       "\n",
       "    .dataframe thead th {\n",
       "        text-align: left;\n",
       "    }\n",
       "\n",
       "    .dataframe tbody tr th {\n",
       "        vertical-align: top;\n",
       "    }\n",
       "</style>\n",
       "<table border=\"1\" class=\"dataframe\">\n",
       "  <thead>\n",
       "    <tr style=\"text-align: right;\">\n",
       "      <th></th>\n",
       "      <th>Run</th>\n",
       "      <th>Event</th>\n",
       "      <th>type1</th>\n",
       "      <th>E1</th>\n",
       "      <th>px1</th>\n",
       "      <th>py1</th>\n",
       "      <th>pz1</th>\n",
       "      <th>pt1</th>\n",
       "      <th>eta1</th>\n",
       "      <th>phi1</th>\n",
       "      <th>...</th>\n",
       "      <th>type2</th>\n",
       "      <th>E2</th>\n",
       "      <th>px2</th>\n",
       "      <th>py2</th>\n",
       "      <th>pz2</th>\n",
       "      <th>pt2</th>\n",
       "      <th>eta2</th>\n",
       "      <th>phi2</th>\n",
       "      <th>Q2</th>\n",
       "      <th>M</th>\n",
       "    </tr>\n",
       "  </thead>\n",
       "  <tbody>\n",
       "    <tr>\n",
       "      <th>0</th>\n",
       "      <td>165617</td>\n",
       "      <td>74601703</td>\n",
       "      <td>G</td>\n",
       "      <td>9.6987</td>\n",
       "      <td>-9.5104</td>\n",
       "      <td>0.3662</td>\n",
       "      <td>1.8633</td>\n",
       "      <td>9.5175</td>\n",
       "      <td>0.1945</td>\n",
       "      <td>3.1031</td>\n",
       "      <td>...</td>\n",
       "      <td>G</td>\n",
       "      <td>9.7633</td>\n",
       "      <td>7.3277</td>\n",
       "      <td>-1.1524</td>\n",
       "      <td>6.3473</td>\n",
       "      <td>7.4178</td>\n",
       "      <td>0.7756</td>\n",
       "      <td>-0.1560</td>\n",
       "      <td>1</td>\n",
       "      <td>17.4922</td>\n",
       "    </tr>\n",
       "    <tr>\n",
       "      <th>1</th>\n",
       "      <td>165617</td>\n",
       "      <td>75100943</td>\n",
       "      <td>G</td>\n",
       "      <td>6.2039</td>\n",
       "      <td>-4.2666</td>\n",
       "      <td>0.4565</td>\n",
       "      <td>-4.4793</td>\n",
       "      <td>4.2910</td>\n",
       "      <td>-0.9121</td>\n",
       "      <td>3.0350</td>\n",
       "      <td>...</td>\n",
       "      <td>G</td>\n",
       "      <td>9.6690</td>\n",
       "      <td>7.2740</td>\n",
       "      <td>-2.8211</td>\n",
       "      <td>-5.7104</td>\n",
       "      <td>7.8019</td>\n",
       "      <td>-0.6786</td>\n",
       "      <td>-0.3700</td>\n",
       "      <td>1</td>\n",
       "      <td>11.5534</td>\n",
       "    </tr>\n",
       "    <tr>\n",
       "      <th>2</th>\n",
       "      <td>165617</td>\n",
       "      <td>75587682</td>\n",
       "      <td>G</td>\n",
       "      <td>19.2892</td>\n",
       "      <td>-4.2121</td>\n",
       "      <td>-0.6516</td>\n",
       "      <td>18.8121</td>\n",
       "      <td>4.2622</td>\n",
       "      <td>2.1905</td>\n",
       "      <td>-2.9881</td>\n",
       "      <td>...</td>\n",
       "      <td>G</td>\n",
       "      <td>9.8244</td>\n",
       "      <td>4.3439</td>\n",
       "      <td>-0.4735</td>\n",
       "      <td>8.7985</td>\n",
       "      <td>4.3697</td>\n",
       "      <td>1.4497</td>\n",
       "      <td>-0.1086</td>\n",
       "      <td>1</td>\n",
       "      <td>9.1636</td>\n",
       "    </tr>\n",
       "    <tr>\n",
       "      <th>3</th>\n",
       "      <td>165617</td>\n",
       "      <td>75660978</td>\n",
       "      <td>G</td>\n",
       "      <td>7.0427</td>\n",
       "      <td>-6.3268</td>\n",
       "      <td>-0.2685</td>\n",
       "      <td>3.0802</td>\n",
       "      <td>6.3325</td>\n",
       "      <td>0.4690</td>\n",
       "      <td>-3.0992</td>\n",
       "      <td>...</td>\n",
       "      <td>G</td>\n",
       "      <td>5.5857</td>\n",
       "      <td>4.4748</td>\n",
       "      <td>0.8489</td>\n",
       "      <td>-3.2319</td>\n",
       "      <td>4.5546</td>\n",
       "      <td>-0.6605</td>\n",
       "      <td>0.1875</td>\n",
       "      <td>1</td>\n",
       "      <td>12.4774</td>\n",
       "    </tr>\n",
       "    <tr>\n",
       "      <th>4</th>\n",
       "      <td>165617</td>\n",
       "      <td>75947690</td>\n",
       "      <td>G</td>\n",
       "      <td>7.2751</td>\n",
       "      <td>0.1030</td>\n",
       "      <td>-5.5331</td>\n",
       "      <td>-4.7212</td>\n",
       "      <td>5.5340</td>\n",
       "      <td>-0.7736</td>\n",
       "      <td>-1.5522</td>\n",
       "      <td>...</td>\n",
       "      <td>G</td>\n",
       "      <td>7.3181</td>\n",
       "      <td>-0.3988</td>\n",
       "      <td>6.9408</td>\n",
       "      <td>2.2825</td>\n",
       "      <td>6.9523</td>\n",
       "      <td>0.3227</td>\n",
       "      <td>1.6282</td>\n",
       "      <td>1</td>\n",
       "      <td>14.3159</td>\n",
       "    </tr>\n",
       "  </tbody>\n",
       "</table>\n",
       "<p>5 rows × 21 columns</p>\n",
       "</div>"
      ],
      "text/plain": [
       "      Run     Event type1       E1     px1     py1      pz1     pt1    eta1  \\\n",
       "0  165617  74601703     G   9.6987 -9.5104  0.3662   1.8633  9.5175  0.1945   \n",
       "1  165617  75100943     G   6.2039 -4.2666  0.4565  -4.4793  4.2910 -0.9121   \n",
       "2  165617  75587682     G  19.2892 -4.2121 -0.6516  18.8121  4.2622  2.1905   \n",
       "3  165617  75660978     G   7.0427 -6.3268 -0.2685   3.0802  6.3325  0.4690   \n",
       "4  165617  75947690     G   7.2751  0.1030 -5.5331  -4.7212  5.5340 -0.7736   \n",
       "\n",
       "     phi1   ...     type2      E2     px2     py2     pz2     pt2    eta2  \\\n",
       "0  3.1031   ...         G  9.7633  7.3277 -1.1524  6.3473  7.4178  0.7756   \n",
       "1  3.0350   ...         G  9.6690  7.2740 -2.8211 -5.7104  7.8019 -0.6786   \n",
       "2 -2.9881   ...         G  9.8244  4.3439 -0.4735  8.7985  4.3697  1.4497   \n",
       "3 -3.0992   ...         G  5.5857  4.4748  0.8489 -3.2319  4.5546 -0.6605   \n",
       "4 -1.5522   ...         G  7.3181 -0.3988  6.9408  2.2825  6.9523  0.3227   \n",
       "\n",
       "     phi2  Q2        M  \n",
       "0 -0.1560   1  17.4922  \n",
       "1 -0.3700   1  11.5534  \n",
       "2 -0.1086   1   9.1636  \n",
       "3  0.1875   1  12.4774  \n",
       "4  1.6282   1  14.3159  \n",
       "\n",
       "[5 rows x 21 columns]"
      ]
     },
     "execution_count": 5,
     "metadata": {},
     "output_type": "execute_result"
    }
   ],
   "source": [
    "dataset = pandas.read_csv('../Datos/Dimuon_DoubleMu.csv')\n",
    "\n",
    "dataset.head()"
   ]
  },
  {
   "cell_type": "markdown",
   "metadata": {},
   "source": [
    "Para el siguiente ejemplo, la masa invariante es de particular interés. Para crear un histograma de la columna de masa invariante, guarde el conjunto de datos basado en el encabezado de la columna exactamente como aparece en la tabla (M) en la variable invariant_mass. <br>\n",
    "Trazar un histograma, indicando qué variable trazar, establecer el número de compartimientos y rango.\n",
    "En el ejemplo siguiente, utilizamos 50 casillas y un rango de 0 a 200 GeV.\n"
   ]
  },
  {
   "cell_type": "code",
   "execution_count": 6,
   "metadata": {},
   "outputs": [
    {
     "data": {
      "image/png": "[encoded data removed]",
      "text/plain": [
       "<matplotlib.figure.Figure at 0x9f70240>"
      ]
     },
     "metadata": {},
     "output_type": "display_data"
    }
   ],
   "source": [
    "invariant_mass = dataset['M']\n",
    "\n",
    "plt.hist(invariant_mass, bins=50, range=(0,200))\n",
    "plt.show()"
   ]
  },
  {
   "cell_type": "markdown",
   "metadata": {},
   "source": [
    "El numero de casillas y el rango puede ser variado para analizar mas claramente los datos. \n",
    "Mas abajo se muestran los camandos para volver a graficar el histograma con un titulo y etiquetas para los ejes. "
   ]
  },
  {
   "cell_type": "code",
   "execution_count": 7,
   "metadata": {},
   "outputs": [
    {
     "data": {
      "image/png": "[encoded data removed]",
      "text/plain": [
       "<matplotlib.figure.Figure at 0xdfd78d0>"
      ]
     },
     "metadata": {},
     "output_type": "display_data"
    }
   ],
   "source": [
    "plt.xlabel('Invariant mass [GeV]')\n",
    "plt.ylabel('Number of events')\n",
    "plt.title('The histogram of the invariant masses of two muons \\n')\n",
    "\n",
    "plt.hist(invariant_mass, bins=50, range=(0,200))\n",
    "plt.show()"
   ]
  },
  {
   "cell_type": "markdown",
   "metadata": {},
   "source": [
    "La gráfica anterior muestra eventos de fondo por debajo de aproximadamente 50 GeV y un pico a aproximadamente 90 GeV."
   ]
  },
  {
   "cell_type": "markdown",
   "metadata": {},
   "source": [
    "Operaciones matemáticas, tales como suma o resta, se pueden realizar con los datos mediante la definición de nuevas variables que permite que los datos sean ordenados. <br>\n",
    "En el ejemplo siguiente, los datos originales se dividen en dos nuevos conjuntos de datos basados en la energía de la colisión. Cada conjunto de datos recibe un nombre y se organiza en este caso por alta energía (> 150 GeV) y baja energía (<150 GeV).\n"
   ]
  },
  {
   "cell_type": "code",
   "execution_count": 8,
   "metadata": {
    "collapsed": true
   },
   "outputs": [],
   "source": [
    "newsethighE = dataset[dataset.E1+dataset.E2>150]\n",
    "newsetlowE = dataset[dataset.E1+dataset.E2<150]"
   ]
  },
  {
   "cell_type": "markdown",
   "metadata": {},
   "source": [
    "El nuevo conjunto de datos se puede graficar por separado, como se hizo anteriormente, o en un solo grafico. <br>Los dos histogramas se pueden superponer ajustando la transparencia usando el comando alfa como se muestra. <br>Las etiquetas de cada conjunto de datos se incluyen en la leyenda situada en la esquina superior derecha. <br>También podemos cambiar el rango para enfocarnos en el evento de interés."
   ]
  },
  {
   "cell_type": "code",
   "execution_count": 9,
   "metadata": {},
   "outputs": [
    {
     "data": {
      "image/png": "[encoded data removed]",
      "text/plain": [
       "<matplotlib.figure.Figure at 0xdc29978>"
      ]
     },
     "metadata": {},
     "output_type": "display_data"
    }
   ],
   "source": [
    "plt.xlabel('Masa Invariante [GeV]')\n",
    "plt.ylabel('Numero de eventos')\n",
    "plt.title('La masa invariante de dos muones comparando altas y bajas energias\\n')\n",
    "plt.hist(newsetlowE ['M'], bins=50, range=(80,100),alpha=0.5, label='Baja E')\n",
    "plt.hist(newsethighE ['M'], bins=50, range=(80,100),alpha=0.5, label='Alta E')\n",
    "plt.legend (loc='upper right')\n",
    "plt.show()\n"
   ]
  },
  {
   "cell_type": "code",
   "execution_count": null,
   "metadata": {
    "collapsed": true
   },
   "outputs": [],
   "source": []
  }
 ],
 "metadata": {
  "kernelspec": {
   "display_name": "Python 2",
   "language": "python",
   "name": "python2"
  },
  "language_info": {
   "codemirror_mode": {
    "name": "ipython",
    "version": 2
   },
   "file_extension": ".py",
   "mimetype": "text/x-python",
   "name": "python",
   "nbconvert_exporter": "python",
   "pygments_lexer": "ipython2",
   "version": "2.7.13"
  }
 },
 "nbformat": 4,
 "nbformat_minor": 1
}
